{
 "cells": [
  {
   "cell_type": "code",
   "execution_count": null,
   "id": "c260d7ac-ce5c-4ab1-9a32-1c1d129b06c9",
   "metadata": {},
   "outputs": [],
   "source": [
    "# Directories\n",
    "import os\n",
    "os.chdir(r\"E:\\academy\\OneDrive - IIT Delhi\\3. IIT DELHI\\2. Academics\\1_PAPER\\2_Analysis\")\n",
    "print(os.getcwd())\n"
   ]
  },
  {
   "cell_type": "code",
   "execution_count": null,
   "id": "980a6451-1f67-4633-9450-e7d82aa25fcb",
   "metadata": {},
   "outputs": [],
   "source": [
    "#Array packages\n",
    "import cartopy.crs as ccrs\n",
    "import pandas as pd\n",
    "import numpy as np\n",
    "import xarray as xr\n",
    "import netCDF4 as nc4\n",
    "\n",
    "from scipy.stats import kendalltau\n",
    "import pymannkendall as mk\n",
    "\n",
    "#plots\n",
    "import matplotlib.pyplot as plt\n",
    "import rioxarray as rio\n",
    "import geopandas as gpd\n",
    "from shapely.geometry import mapping\n",
    "import matplotlib.ticker as ticker\n",
    "from matplotlib.ticker import MultipleLocator\n",
    "\n",
    "#Progress meter\n",
    "from dask.diagnostics import ProgressBar\n",
    "from tqdm import tqdm\n",
    "\n",
    "# Directories\n",
    "import os\n",
    "import glob\n",
    "import dask\n",
    "#import h5netcdf\n",
    "import scipy\n"
   ]
  },
  {
   "cell_type": "code",
   "execution_count": null,
   "id": "71de4b8f-f352-451c-bd6b-815c50566b97",
   "metadata": {},
   "outputs": [],
   "source": []
  },
  {
   "cell_type": "code",
   "execution_count": null,
   "id": "b35b6c93-7ee0-463c-8efd-697b8161ee77",
   "metadata": {},
   "outputs": [],
   "source": [
    "%%time\n",
    "import xarrayMannKendall as XMK\n",
    "import dask\n",
    "from dask import delayed\n",
    "import graphviz\n",
    "result=[]\n",
    "for vr in tqdm(range(4)):\n",
    "    for ss in range(4):\n",
    "        \n",
    "        ds=lsm_M[var[vr]]\n",
    "        \n",
    "        months=ds[\"time.month\"]\n",
    "        ds1=ds.sel(time=months.isin(ssn_m[ss]))\n",
    "        #ds1=ds1.groupby(\"time.year\").mean(dim='time').compute()\n",
    "        ds1=ds1.rename({'time':'time', 'lon': 'x','lat': 'y'})\n",
    "\n",
    "        \n",
    "        MK_test = XMK.Mann_Kendall_test(ds1, 'time')\n",
    "        xrr1=MK_test.compute()\n",
    "        xrr1['trend']=xrr1.trend.where(xrr1.signif==1,0)    #To REMOVE NON SIGNIFICANT POINTS\n",
    "        result.append(xrr1)"
   ]
  }
 ],
 "metadata": {
  "kernelspec": {
   "display_name": "Python 3 (ipykernel)",
   "language": "python",
   "name": "python3"
  },
  "language_info": {
   "codemirror_mode": {
    "name": "ipython",
    "version": 3
   },
   "file_extension": ".py",
   "mimetype": "text/x-python",
   "name": "python",
   "nbconvert_exporter": "python",
   "pygments_lexer": "ipython3",
   "version": "3.11.5"
  }
 },
 "nbformat": 4,
 "nbformat_minor": 5
}
